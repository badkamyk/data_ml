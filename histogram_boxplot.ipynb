{
 "cells": [
  {
   "cell_type": "code",
   "execution_count": 16,
   "source": [
    "def show_distribution(var_data):\r\n",
    "    from matplotlib import pyplot as plt\r\n",
    "    \r\n",
    "\r\n",
    "        # Get statistics\r\n",
    "    min_val = var_data.min()\r\n",
    "    max_val = var_data.max()\r\n",
    "    mean_val = var_data.mean()\r\n",
    "    med_val = var_data.median()\r\n",
    "    mod_val = var_data.mode()[0]\r\n",
    "\r\n",
    "    print('Minimum:{:.2f}\\nMean:{:.2f}\\nMedian:{:.2f}\\nMode:{:.2f}\\nMaximum:{:.2f}\\n'.format(min_val,\r\n",
    "                                                                                            mean_val,\r\n",
    "                                                                                            med_val,\r\n",
    "                                                                                            mod_val,\r\n",
    "                                                                                            max_val))\r\n",
    "    # (2 rows, 1 column)\r\n",
    "    fig, ax = plt.subplots(2, 1, figsize = (10,4))\r\n",
    "\r\n",
    "    # Histogram   \r\n",
    "    ax[0].hist(var_data)\r\n",
    "    ax[0].set_ylabel('Frequency')\r\n",
    "\r\n",
    "    # mean, median, and mode\r\n",
    "    ax[0].axvline(x=min_val, color = 'gray', linestyle='dashed', linewidth = 2)\r\n",
    "    ax[0].axvline(x=mean_val, color = 'cyan', linestyle='dashed', linewidth = 2)\r\n",
    "    ax[0].axvline(x=med_val, color = 'red', linestyle='dashed', linewidth = 2)\r\n",
    "    ax[0].axvline(x=mod_val, color = 'yellow', linestyle='dashed', linewidth = 2)\r\n",
    "    ax[0].axvline(x=max_val, color = 'gray', linestyle='dashed', linewidth = 2)\r\n",
    "\r\n",
    "    # Boxplot   \r\n",
    "    ax[1].boxplot(var_data, vert=False)\r\n",
    "    ax[1].set_xlabel('Value')\r\n",
    "\r\n",
    "    # Title\r\n",
    "    fig.suptitle('Data Distribution')\r\n",
    "\r\n",
    "\r\n",
    "    plt.show()\r\n",
    "\r\n",
    "\r\n",
    "\r\n",
    "# Define your variable to examine, then call the function - \"show_distribution(your_variable_here)\"\"\r\n",
    "\r\n",
    "\r\n"
   ],
   "outputs": [
    {
     "output_type": "stream",
     "name": "stdout",
     "text": [
      "Minimum:3.00\n",
      "Mean:49.18\n",
      "Median:49.50\n",
      "Mode:50.00\n",
      "Maximum:97.00\n",
      "\n"
     ]
    },
    {
     "output_type": "display_data",
     "data": {
      "image/png": "[encoded data removed]",
      "text/plain": [
       "<Figure size 720x288 with 2 Axes>"
      ]
     },
     "metadata": {
      "needs_background": "light"
     }
    }
   ],
   "metadata": {}
  }
 ],
 "metadata": {
  "orig_nbformat": 4,
  "language_info": {
   "name": "python",
   "version": "3.9.7",
   "mimetype": "text/x-python",
   "codemirror_mode": {
    "name": "ipython",
    "version": 3
   },
   "pygments_lexer": "ipython3",
   "nbconvert_exporter": "python",
   "file_extension": ".py"
  },
  "kernelspec": {
   "name": "python3",
   "display_name": "Python 3.9.7 64-bit (windows store)"
  },
  "interpreter": {
   "hash": "d71a16eabdf11aa1cfc25545e2e1e33113ecd756df1daf740b6d5b440d08f976"
  }
 },
 "nbformat": 4,
 "nbformat_minor": 2
}